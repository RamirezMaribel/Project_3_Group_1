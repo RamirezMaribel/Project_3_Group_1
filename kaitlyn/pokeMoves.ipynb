{
 "cells": [
  {
   "cell_type": "code",
   "execution_count": 1,
   "metadata": {},
   "outputs": [],
   "source": [
    "# dependencies\n",
    "import pypokedex\n",
    "import requests\n",
    "import json\n",
    "import pandas as pd\n",
    "import regex as re"
   ]
  },
  {
   "cell_type": "code",
   "execution_count": 2,
   "metadata": {
    "vscode": {
     "languageId": "ruby"
    }
   },
   "outputs": [],
   "source": [
    "# pokemon moves url for requests\n",
    "# limit=937 refers to the count of moves stored in the api\n",
    "url = \"https://pokeapi.co/api/v2/move/?limit=937\"\n",
    "\n",
    "# printing moves response object to console\n",
    "response = requests.get(url)"
   ]
  },
  {
   "cell_type": "code",
   "execution_count": 10,
   "metadata": {},
   "outputs": [
    {
     "ename": "KeyError",
     "evalue": "'learned_by_pokemon'",
     "output_type": "error",
     "traceback": [
      "\u001b[1;31m---------------------------------------------------------------------------\u001b[0m",
      "\u001b[1;31mKeyError\u001b[0m                                  Traceback (most recent call last)",
      "Cell \u001b[1;32mIn[10], line 27\u001b[0m\n\u001b[0;32m     25\u001b[0m move_type \u001b[38;5;241m=\u001b[39m move_data[\u001b[38;5;124m'\u001b[39m\u001b[38;5;124mtype\u001b[39m\u001b[38;5;124m'\u001b[39m][\u001b[38;5;124m'\u001b[39m\u001b[38;5;124mname\u001b[39m\u001b[38;5;124m'\u001b[39m]\n\u001b[0;32m     26\u001b[0m damage_class \u001b[38;5;241m=\u001b[39m move_data[\u001b[38;5;124m'\u001b[39m\u001b[38;5;124mdamage_class\u001b[39m\u001b[38;5;124m'\u001b[39m][\u001b[38;5;124m'\u001b[39m\u001b[38;5;124mname\u001b[39m\u001b[38;5;124m'\u001b[39m]\n\u001b[1;32m---> 27\u001b[0m learned_by_pokemon \u001b[38;5;241m=\u001b[39m [pokemon[\u001b[38;5;124m'\u001b[39m\u001b[38;5;124mlearned_by_pokemon\u001b[39m\u001b[38;5;124m'\u001b[39m][\u001b[38;5;124m'\u001b[39m\u001b[38;5;124mname\u001b[39m\u001b[38;5;124m'\u001b[39m] \u001b[38;5;28;01mfor\u001b[39;00m pokemon \u001b[38;5;129;01min\u001b[39;00m move_data[\u001b[38;5;124m'\u001b[39m\u001b[38;5;124mlearned_by_pokemon\u001b[39m\u001b[38;5;124m'\u001b[39m]]\n\u001b[0;32m     28\u001b[0m learned_by_pokemon_str \u001b[38;5;241m=\u001b[39m \u001b[38;5;124m'\u001b[39m\u001b[38;5;124m, \u001b[39m\u001b[38;5;124m'\u001b[39m\u001b[38;5;241m.\u001b[39mjoin(learned_by_pokemon)\n\u001b[0;32m     30\u001b[0m move_details\u001b[38;5;241m.\u001b[39mappend({\n\u001b[0;32m     31\u001b[0m     \u001b[38;5;124m'\u001b[39m\u001b[38;5;124mMove ID\u001b[39m\u001b[38;5;124m'\u001b[39m: move_id,\n\u001b[0;32m     32\u001b[0m     \u001b[38;5;124m'\u001b[39m\u001b[38;5;124mMove Name\u001b[39m\u001b[38;5;124m'\u001b[39m: move_name,\n\u001b[1;32m   (...)\u001b[0m\n\u001b[0;32m     40\u001b[0m \n\u001b[0;32m     41\u001b[0m })\n",
      "Cell \u001b[1;32mIn[10], line 27\u001b[0m, in \u001b[0;36m<listcomp>\u001b[1;34m(.0)\u001b[0m\n\u001b[0;32m     25\u001b[0m move_type \u001b[38;5;241m=\u001b[39m move_data[\u001b[38;5;124m'\u001b[39m\u001b[38;5;124mtype\u001b[39m\u001b[38;5;124m'\u001b[39m][\u001b[38;5;124m'\u001b[39m\u001b[38;5;124mname\u001b[39m\u001b[38;5;124m'\u001b[39m]\n\u001b[0;32m     26\u001b[0m damage_class \u001b[38;5;241m=\u001b[39m move_data[\u001b[38;5;124m'\u001b[39m\u001b[38;5;124mdamage_class\u001b[39m\u001b[38;5;124m'\u001b[39m][\u001b[38;5;124m'\u001b[39m\u001b[38;5;124mname\u001b[39m\u001b[38;5;124m'\u001b[39m]\n\u001b[1;32m---> 27\u001b[0m learned_by_pokemon \u001b[38;5;241m=\u001b[39m [pokemon[\u001b[38;5;124m'\u001b[39m\u001b[38;5;124mlearned_by_pokemon\u001b[39m\u001b[38;5;124m'\u001b[39m][\u001b[38;5;124m'\u001b[39m\u001b[38;5;124mname\u001b[39m\u001b[38;5;124m'\u001b[39m] \u001b[38;5;28;01mfor\u001b[39;00m pokemon \u001b[38;5;129;01min\u001b[39;00m move_data[\u001b[38;5;124m'\u001b[39m\u001b[38;5;124mlearned_by_pokemon\u001b[39m\u001b[38;5;124m'\u001b[39m]]\n\u001b[0;32m     28\u001b[0m learned_by_pokemon_str \u001b[38;5;241m=\u001b[39m \u001b[38;5;124m'\u001b[39m\u001b[38;5;124m, \u001b[39m\u001b[38;5;124m'\u001b[39m\u001b[38;5;241m.\u001b[39mjoin(learned_by_pokemon)\n\u001b[0;32m     30\u001b[0m move_details\u001b[38;5;241m.\u001b[39mappend({\n\u001b[0;32m     31\u001b[0m     \u001b[38;5;124m'\u001b[39m\u001b[38;5;124mMove ID\u001b[39m\u001b[38;5;124m'\u001b[39m: move_id,\n\u001b[0;32m     32\u001b[0m     \u001b[38;5;124m'\u001b[39m\u001b[38;5;124mMove Name\u001b[39m\u001b[38;5;124m'\u001b[39m: move_name,\n\u001b[1;32m   (...)\u001b[0m\n\u001b[0;32m     40\u001b[0m \n\u001b[0;32m     41\u001b[0m })\n",
      "\u001b[1;31mKeyError\u001b[0m: 'learned_by_pokemon'"
     ]
    }
   ],
   "source": [
    "# objective: create dataframe that includes all pokemon moves and their attributes\n",
    "\n",
    "# create empty list to create dataframe with\n",
    "move_details = []\n",
    "\n",
    "data = response.json()\n",
    "moves = data['results']\n",
    "\n",
    "# iterate through api to add moves and attributes into the empty list\n",
    "for move in moves:\n",
    "    move_url = move['url']\n",
    "    move_response = requests.get(move_url)\n",
    "    move_data = move_response.json()\n",
    "    move_id = re.search(r'/(\\d+)/$', move_url).group(1)\n",
    "    move_name = move_data['name']\n",
    "\n",
    "    if 'effect_entries' in move_data and len(move_data['effect_entries']) > 0:\n",
    "        move_effect = move_data['effect_entries'][0]['effect']\n",
    "    else:\n",
    "        move_effect = \"Effect data not available.\"\n",
    "    \n",
    "    power = move_data['power']\n",
    "    accuracy = move_data['accuracy']\n",
    "    pp = move_data['pp']\n",
    "    move_type = move_data['type']['name']\n",
    "    damage_class = move_data['damage_class']['name']\n",
    "    learned_by_pokemon = [pokemon['learned_by_pokemon']['name'] for pokemon in move_data['learned_by_pokemon']]\n",
    "    learned_by_pokemon_str = ', '.join(learned_by_pokemon)\n",
    "   \n",
    "    move_details.append({\n",
    "        'Move ID': move_id,\n",
    "        'Move Name': move_name,\n",
    "        'Move Effect': move_effect,\n",
    "        'Power': power,\n",
    "        'Accuracy': accuracy,\n",
    "        'PP': pp,\n",
    "        'Type': move_type,\n",
    "        'Damage Class': damage_class,\n",
    "        'Learned By Pokemon': learned_by_pokemon_str\n",
    "\n",
    "    })\n",
    "\n",
    "# save into dataframe\n",
    "moves_df = pd.DataFrame(move_details)\n",
    "\n",
    "# convert numerical columns into integers to match erd diagram\n",
    "moves_df['Power'] = moves_df['Power'].astype('Int64')\n",
    "moves_df['Accuracy'] = moves_df['Accuracy'].astype('Int64')\n",
    "moves_df['PP'] = moves_df['PP'].astype('Int64')\n",
    "\n",
    "# display dataframe\n",
    "moves_df.head(5)"
   ]
  },
  {
   "cell_type": "code",
   "execution_count": 19,
   "metadata": {},
   "outputs": [
    {
     "data": {
      "text/plain": [
       "Move ID         object\n",
       "Move Name       object\n",
       "Move Effect     object\n",
       "Power            Int64\n",
       "Accuracy         Int64\n",
       "PP               Int64\n",
       "Type            object\n",
       "Damage Class    object\n",
       "dtype: object"
      ]
     },
     "execution_count": 19,
     "metadata": {},
     "output_type": "execute_result"
    }
   ],
   "source": [
    "# verfify data types are correct\n",
    "moves_df.dtypes"
   ]
  },
  {
   "cell_type": "code",
   "execution_count": 20,
   "metadata": {},
   "outputs": [],
   "source": [
    "   # export dataframe into csv file\n",
    "moves_df.to_csv('moves_csv') "
   ]
  }
 ],
 "metadata": {
  "kernelspec": {
   "display_name": "base",
   "language": "python",
   "name": "python3"
  },
  "language_info": {
   "codemirror_mode": {
    "name": "ipython",
    "version": 3
   },
   "file_extension": ".py",
   "mimetype": "text/x-python",
   "name": "python",
   "nbconvert_exporter": "python",
   "pygments_lexer": "ipython3",
   "version": "3.11.7"
  }
 },
 "nbformat": 4,
 "nbformat_minor": 2
}
