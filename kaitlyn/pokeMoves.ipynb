{
 "cells": [
  {
   "cell_type": "code",
   "execution_count": 1,
   "metadata": {},
   "outputs": [],
   "source": [
    "# dependencies\n",
    "import pypokedex\n",
    "import requests\n",
    "import json\n",
    "import pandas as pd\n",
    "import regex as re\n",
    "import time"
   ]
  },
  {
   "cell_type": "code",
   "execution_count": 2,
   "metadata": {
    "vscode": {
     "languageId": "ruby"
    }
   },
   "outputs": [],
   "source": [
    "# pokemon moves url for requests\n",
    "# limit=937 refers to the count of moves stored in the api\n",
    "url = \"https://pokeapi.co/api/v2/move/?limit=937\"\n",
    "\n",
    "# printing moves response object to console\n",
    "response = requests.get(url)"
   ]
  },
  {
   "cell_type": "code",
   "execution_count": 18,
   "metadata": {},
   "outputs": [
    {
     "data": {
      "text/html": [
       "<div>\n",
       "<style scoped>\n",
       "    .dataframe tbody tr th:only-of-type {\n",
       "        vertical-align: middle;\n",
       "    }\n",
       "\n",
       "    .dataframe tbody tr th {\n",
       "        vertical-align: top;\n",
       "    }\n",
       "\n",
       "    .dataframe thead th {\n",
       "        text-align: right;\n",
       "    }\n",
       "</style>\n",
       "<table border=\"1\" class=\"dataframe\">\n",
       "  <thead>\n",
       "    <tr style=\"text-align: right;\">\n",
       "      <th></th>\n",
       "      <th>Move ID</th>\n",
       "      <th>Move Name</th>\n",
       "      <th>Move Effect</th>\n",
       "      <th>Power</th>\n",
       "      <th>Accuracy</th>\n",
       "      <th>PP</th>\n",
       "      <th>Type</th>\n",
       "      <th>Damage Class</th>\n",
       "    </tr>\n",
       "  </thead>\n",
       "  <tbody>\n",
       "    <tr>\n",
       "      <th>0</th>\n",
       "      <td>1</td>\n",
       "      <td>pound</td>\n",
       "      <td>Inflicts regular damage.</td>\n",
       "      <td>80</td>\n",
       "      <td>100</td>\n",
       "      <td>35</td>\n",
       "      <td>normal</td>\n",
       "      <td>physical</td>\n",
       "    </tr>\n",
       "    <tr>\n",
       "      <th>1</th>\n",
       "      <td>2</td>\n",
       "      <td>karate-chop</td>\n",
       "      <td>Inflicts regular damage.  User's critical hit ...</td>\n",
       "      <td>80</td>\n",
       "      <td>100</td>\n",
       "      <td>25</td>\n",
       "      <td>fighting</td>\n",
       "      <td>physical</td>\n",
       "    </tr>\n",
       "    <tr>\n",
       "      <th>2</th>\n",
       "      <td>3</td>\n",
       "      <td>double-slap</td>\n",
       "      <td>Inflicts regular damage.  Hits 2–5 times in on...</td>\n",
       "      <td>80</td>\n",
       "      <td>85</td>\n",
       "      <td>10</td>\n",
       "      <td>normal</td>\n",
       "      <td>physical</td>\n",
       "    </tr>\n",
       "    <tr>\n",
       "      <th>3</th>\n",
       "      <td>4</td>\n",
       "      <td>comet-punch</td>\n",
       "      <td>Inflicts regular damage.  Hits 2–5 times in on...</td>\n",
       "      <td>80</td>\n",
       "      <td>85</td>\n",
       "      <td>15</td>\n",
       "      <td>normal</td>\n",
       "      <td>physical</td>\n",
       "    </tr>\n",
       "    <tr>\n",
       "      <th>4</th>\n",
       "      <td>5</td>\n",
       "      <td>mega-punch</td>\n",
       "      <td>Inflicts regular damage.</td>\n",
       "      <td>80</td>\n",
       "      <td>85</td>\n",
       "      <td>20</td>\n",
       "      <td>normal</td>\n",
       "      <td>physical</td>\n",
       "    </tr>\n",
       "  </tbody>\n",
       "</table>\n",
       "</div>"
      ],
      "text/plain": [
       "  Move ID    Move Name                                        Move Effect  \\\n",
       "0       1        pound                           Inflicts regular damage.   \n",
       "1       2  karate-chop  Inflicts regular damage.  User's critical hit ...   \n",
       "2       3  double-slap  Inflicts regular damage.  Hits 2–5 times in on...   \n",
       "3       4  comet-punch  Inflicts regular damage.  Hits 2–5 times in on...   \n",
       "4       5   mega-punch                           Inflicts regular damage.   \n",
       "\n",
       "   Power  Accuracy  PP      Type Damage Class  \n",
       "0     80       100  35    normal     physical  \n",
       "1     80       100  25  fighting     physical  \n",
       "2     80        85  10    normal     physical  \n",
       "3     80        85  15    normal     physical  \n",
       "4     80        85  20    normal     physical  "
      ]
     },
     "execution_count": 18,
     "metadata": {},
     "output_type": "execute_result"
    }
   ],
   "source": [
    "# objective: create dataframe that includes all pokemon moves and their attributes\n",
    "\n",
    "# create empty list to create dataframe with\n",
    "move_details = []\n",
    "\n",
    "data = response.json()\n",
    "moves = data['results']\n",
    "\n",
    "# iterate through api to add moves and attributes into the empty list\n",
    "for move in moves:\n",
    "    move_url = move['url']\n",
    "    move_response = requests.get(move_url)\n",
    "    move_data = move_response.json()\n",
    "    move_id = re.search(r'/(\\d+)/$', move_url).group(1)\n",
    "    move_name = move_data['name']\n",
    "\n",
    "    if 'effect_entries' in move_data and len(move_data['effect_entries']) > 0:\n",
    "        move_effect = move_data['effect_entries'][0]['effect']\n",
    "    else:\n",
    "        move_effect = \"Effect data not available.\"\n",
    "    \n",
    "    power = move_data['power']\n",
    "    accuracy = move_data['accuracy']\n",
    "    pp = move_data['pp']\n",
    "    move_type = move_data['type']['name']\n",
    "    damage_class = move_data['damage_class']['name']\n",
    "\n",
    "    move_details.append({\n",
    "        'Move ID': move_id,\n",
    "        'Move Name': move_name,\n",
    "        'Move Effect': move_effect,\n",
    "        'Power': power,\n",
    "        'Accuracy': accuracy,\n",
    "        'PP': pp,\n",
    "        'Type': move_type,\n",
    "        'Damage Class': damage_class\n",
    "\n",
    "    })\n",
    "\n",
    "# save into dataframe\n",
    "moves_df = pd.DataFrame(move_details)\n",
    "\n",
    "# convert numerical columns into integers to match erd diagram\n",
    "moves_df['Power'] = moves_df['Power'].astype('Int64')\n",
    "moves_df['Accuracy'] = moves_df['Accuracy'].astype('Int64')\n",
    "moves_df['PP'] = moves_df['PP'].astype('Int64')\n",
    "\n",
    "# display dataframe\n",
    "moves_df.head(5)"
   ]
  },
  {
   "cell_type": "code",
   "execution_count": 19,
   "metadata": {},
   "outputs": [
    {
     "data": {
      "text/plain": [
       "Move ID         object\n",
       "Move Name       object\n",
       "Move Effect     object\n",
       "Power            Int64\n",
       "Accuracy         Int64\n",
       "PP               Int64\n",
       "Type            object\n",
       "Damage Class    object\n",
       "dtype: object"
      ]
     },
     "execution_count": 19,
     "metadata": {},
     "output_type": "execute_result"
    }
   ],
   "source": [
    "# verfify data types are correct\n",
    "moves_df.dtypes"
   ]
  },
  {
   "cell_type": "code",
   "execution_count": 20,
   "metadata": {},
   "outputs": [],
   "source": [
    "   # export dataframe into csv file\n",
    "moves_df.to_csv('moves_csv') "
   ]
  },
  {
   "cell_type": "code",
   "execution_count": null,
   "metadata": {},
   "outputs": [],
   "source": []
  }
 ],
 "metadata": {
  "kernelspec": {
   "display_name": "base",
   "language": "python",
   "name": "python3"
  },
  "language_info": {
   "codemirror_mode": {
    "name": "ipython",
    "version": 3
   },
   "file_extension": ".py",
   "mimetype": "text/x-python",
   "name": "python",
   "nbconvert_exporter": "python",
   "pygments_lexer": "ipython3",
   "version": "3.11.7"
  }
 },
 "nbformat": 4,
 "nbformat_minor": 2
}
